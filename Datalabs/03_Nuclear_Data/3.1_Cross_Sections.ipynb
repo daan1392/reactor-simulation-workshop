{
 "cells": [
  {
   "cell_type": "markdown",
   "metadata": {},
   "source": [
    "# Plotting isotope cross sections\n",
    "\n",
    "(Based on: https://github.com/fusion-energy/neutronics-workshop)\n",
    "\n",
    "Knowing the interaction probabilities of isotopes and materials in your model can help you understand simulation results. There are several online tools for plotting nuclear cross sections such as [www.janis.com](https://www.oecd-nea.org/jcms/pl_39910/janis), however, OpenMC can also plot cross sections.\n",
    "\n",
    "This python notebook allows users to plot neutron interaction cross sections for specific isotopes using OpenMC.\n",
    "\n",
    "In this first part of the task we are plotting the <b>microscopic</b> cross-section \"<b>σ</b>\".\n",
    "\n",
    "Microscopic cross section is the effective target area in $\\mathrm{m}^2$ presented by a single nucleus to an incident neutron beam.\n",
    "\n",
    "This is used to characterize the probability of reaction between a neutron and an individual nucleus.\n",
    "\n",
    "Microscopic is often stated in units of barns where 1 barn is equal to $10^{−28}$ $\\mathrm{m}^2$ "
   ]
  },
  {
   "cell_type": "markdown",
   "metadata": {},
   "source": [
    "First import OpenMC, the nuclear data path is already pre-defined. We are working with the ENDF/B-VIII.0 nuclear data library. "
   ]
  },
  {
   "cell_type": "code",
   "execution_count": null,
   "metadata": {},
   "outputs": [],
   "source": [
    "import openmc\n",
    "import matplotlib.pyplot as plt"
   ]
  },
  {
   "cell_type": "markdown",
   "metadata": {},
   "source": [
    "# Neutron Reactions in Fission Systems  \n",
    "\n",
    "In a nuclear reactor, neutron interactions with fuel isotopes determine the overall reactor behavior. Among many the many reactions in a reactor, two key reactions are:  \n",
    "\n",
    "- **Fission**: A neutron induces the splitting of a heavy nucleus, releasing energy and more neutrons. This is crucial for sustaining a chain reaction.  \n",
    "- **Radiative Capture** ($n,\\gamma$): A neutron is absorbed without causing fission, leading to isotope transmutation in excited state and relaxes by emitting $\\gamma$-radiation. This affects fuel composition over time.  \n",
    "\n",
    "The following code block plots the fission and capture cross sections for **U-238, U-235, and Pu-239**, three key isotopes in fission reactors.  \n",
    "\n",
    "- **U-235** is the primary fissile isotope in most thermal reactors, with a high fission probability for low-energy (thermal) neutrons.  \n",
    "- **U-238** mainly undergoes radiative capture at thermal energies but can fission at higher neutron energies.  \n",
    "- **Pu-239** is bred from U-238 and behaves similarly to U-235 but with different cross-section characteristics.  \n",
    "\n",
    "## Observations  \n",
    "- At what energy range is U-238 more likely to capture a neutron rather than fission?  \n",
    "- How do the fission cross sections of U-235 and Pu-239 compare in the thermal and fast energy regions?  \n"
   ]
  },
  {
   "cell_type": "code",
   "execution_count": null,
   "metadata": {},
   "outputs": [],
   "source": [
    "# Define the figure and axis for plotting\n",
    "fig, ax = plt.subplots(figsize=(10, 6))\n",
    "\n",
    "# Plot the fission and capture cross sections for U-235, U-238 and Pu-239\n",
    "fig = openmc.plotter.plot_xs(\n",
    "    axis=ax,\n",
    "    reactions={\n",
    "        'U235': ['fission', '(n,gamma)'],\n",
    "        'U238': ['fission', '(n,gamma)'],\n",
    "        # TODO the reactions for Pu-239\n",
    "    }\n",
    ")\n",
    "\n",
    "ax.set_xscale('log')  # Log scale is typically used for cross sections\n",
    "ax.set_yscale('log')  # Log scale for better visualization of large variations\n",
    "ax.set_xlim(1e-5, 20e6)  # Energy range from thermal (~0.01 eV) to fast (~20 MeV)\n",
    "ax.set_xlabel(\"Neutron Energy (eV)\")\n",
    "ax.set_ylabel(\"Cross Section (barns)\")\n",
    "\n",
    "plt.show()"
   ]
  },
  {
   "cell_type": "markdown",
   "metadata": {},
   "source": [
    "# Neutron Absorption in Fission Products  \n",
    "\n",
    "In fission reactors, certain fission products strongly absorb neutrons, affecting reactor operation and fuel cycle management.  \n",
    "\n",
    "One of the most important neutron absorption reactions occurs in **xenon (Xe) and samarium (Sm) isotopes**, which are known as **neutron poisons** because they significantly reduce neutron availability for sustaining the chain reaction.  \n",
    "\n",
    "- **Xe-135** is a short-lived fission product with an extremely high neutron absorption cross section. It plays a crucial role in reactor control and is responsible for xenon poisoning effects.  \n",
    "- **Sm-149** is a long-lived fission product with a high absorption cross section, contributing to reactivity loss over time.  \n",
    "\n",
    "To ensure stable reactor operation, it is important to understand the neutron absorption cross sections of these isotopes.  \n",
    "\n",
    "The following code plots the neutron capture ($n,\\gamma$) cross sections for **Xe-135, Sm-149, and other relevant isotopes**.  \n",
    "\n",
    "## Observations  \n",
    "- Which isotope has the highest probability of neutron absorption at thermal energies?  \n",
    "- How does Xe-135 poisoning compare to Sm-149 in terms of neutron absorption?  \n",
    "- Are these effects also important for fast reactors?\n"
   ]
  },
  {
   "cell_type": "code",
   "execution_count": null,
   "metadata": {},
   "outputs": [],
   "source": [
    "fig, ax = plt.subplots(figsize=(10, 6))\n",
    "\n",
    "# Plot the neutron capture (n,gamma) cross sections for Xe-135 and Sm-149\n",
    "fig = openmc.plotter.plot_xs(\n",
    "    axis=ax,\n",
    "    reactions={\n",
    "        # TODO the reactions for Xe-135, Sm-149, Sm-151, and Sm-152\n",
    "    }\n",
    ")\n",
    "\n",
    "ax.set_xscale('log')  # Log scale is typical for cross section plots\n",
    "ax.set_yscale('log')  # Log scale for better visualization of variations\n",
    "ax.set_xlim(1e-3, 1e7)\n",
    "ax.set_xlabel(\"Neutron Energy (eV)\")\n",
    "ax.set_ylabel(\"Cross Section (barns)\")\n",
    "\n",
    "plt.show()"
   ]
  },
  {
   "cell_type": "markdown",
   "metadata": {},
   "source": [
    "## Exercise 1: Plotting Neutron Absorption in Control Rod Materials\n",
    "Control rods are used to regulate the neutron population in a nuclear reactor. Materials like boron (B), cadmium (Cd), indium (In) and Silver (Ag) have high neutron absorption cross sections, making them effective at controlling reactivity.\n",
    "\n",
    "Task:\n",
    "Complete the code below by adding the correct isotope names for boron, cadmium, silver and indium to plot their neutron capture cross sections (𝑛,𝛾)."
   ]
  },
  {
   "cell_type": "code",
   "execution_count": null,
   "metadata": {},
   "outputs": [],
   "source": [
    "fig, ax = plt.subplots()\n",
    "\n",
    "# TODO Plot the neutron capture (n,gamma) cross sections for B-10, Cd-113, Ag-107, Ag-109 and In-115\n",
    "\n",
    "ax.set_xscale('log')\n",
    "ax.set_yscale('log')\n",
    "ax.set_xlim(1e-3, 1e7)  \n",
    "ax.set_xlabel(\"Neutron Energy (eV)\")\n",
    "ax.set_ylabel(\"Cross Section (barns)\")\n",
    "\n",
    "plt.show()"
   ]
  },
  {
   "cell_type": "markdown",
   "metadata": {},
   "source": [
    "Cadmium (Cd), Indium (In), and Silver (Ag) are highly effective nuclides for reactivity control in nuclear reactors due to their neutron absorption properties.  \n",
    "\n",
    "- These nuclides exhibit neutron absorption cross-section peaks that are well-distributed across a wide range of neutron energies.  \n",
    "- This characteristic ensures effective neutron absorption in both thermal and epithermal energy regions, making them versatile for controlling reactivity in various reactor conditions.  \n",
    "- The broad energy-dependent absorption behavior of Cd, In, and Ag allows for smoother and more predictable reactivity control compared to materials with narrow absorption peaks.  "
   ]
  },
  {
   "cell_type": "code",
   "execution_count": null,
   "metadata": {},
   "outputs": [],
   "source": [
    "fig, ax = plt.subplots()\n",
    "\n",
    "# TODO Plot the (n,a) and (n,gamma) cross section for B-10\n",
    "\n",
    "ax.set_xscale('log')\n",
    "ax.set_yscale('log')\n",
    "ax.set_xlim(1e-3, 1e7)  \n",
    "ax.set_xlabel(\"Neutron Energy (eV)\")\n",
    "ax.set_ylabel(\"Cross Section (barns)\")\n",
    "\n",
    "plt.show()"
   ]
  },
  {
   "cell_type": "markdown",
   "metadata": {},
   "source": [
    "Although B-10 is often used in reactor applications for controlling reactivity, its neutron absorption primarily occurs through the (n,α) reaction rather than the (n,γ) reaction. In the (n,α) reaction, a neutron is absorbed by a B-10 nucleus, resulting in the emission of an alpha particle and the formation of a lithium nucleus. This reaction is highly effective at absorbing neutrons, making B-10 a valuable material for reactivity control.\n",
    "\n",
    "However, the (n,α) reaction also induces swelling in the control rod material due to the accumulation of helium gas (from alpha particles) and lithium. This swelling can compromise the structural integrity of the control rods over time, leading to challenges in long-term reactor operation and maintenance. As a result, other nuclides, such as cadmium (Cd), silver (Ag), and indium (In), are often used in control rods to mitigate these issues.\n",
    "\n",
    "In fast reactors, where neutron energies are much higher, these alternative nuclides may not be as effective at neutron absorption due to their energy-dependent cross sections. In such cases, boron is used more frequently despite the swelling issues, as its neutron absorption properties remain effective across a wide range of neutron energies. However, the swelling effect still poses a significant challenge in these applications, requiring careful design and material selection for control rods.  "
   ]
  }
 ],
 "metadata": {
  "interpreter": {
   "hash": "388a69045c46a6cab693fa82e98fd7f2d33e04d9f9ebcb2c17dde5f00932fece"
  },
  "kernelspec": {
   "display_name": "Python3 (sandy-devel)",
   "language": "python",
   "name": "sandy-devel"
  },
  "language_info": {
   "codemirror_mode": {
    "name": "ipython",
    "version": 3
   },
   "file_extension": ".py",
   "mimetype": "text/x-python",
   "name": "python",
   "nbconvert_exporter": "python",
   "pygments_lexer": "ipython3",
   "version": "3.12.7"
  }
 },
 "nbformat": 4,
 "nbformat_minor": 4
}
