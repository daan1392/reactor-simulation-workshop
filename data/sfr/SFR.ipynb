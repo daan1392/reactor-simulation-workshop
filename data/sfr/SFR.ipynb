{
 "cells": [
  {
   "cell_type": "markdown",
   "metadata": {
    "colab": {
     "base_uri": "https://localhost:8080/"
    },
    "id": "q9Vo6HOQUQbS",
    "outputId": "020190f0-fec4-4a85-a716-2a98b03b3340"
   },
   "source": [
    "# A Sodium Fast Reactor geometry \n",
    "This notebook can be used as a template for modeling Sodium fast reactors.\n",
    "\n",
    "SOURCES:\n",
    "A. Facchini, V. Giusti, R. Ciolini, K. Tucek, D. Thomas, E. D'Agata, \"Detailed Neutornics Study of the Power Evolution for the European Sodium Fast Reactor During a Positive Insertion of Reactivity,\" Nuc. Eng. Design  313 1-9 (2017)\n",
    "A. Ponomarev, A. Bednarova, K. Mikityuk, \"New Sodium Fast Reactor Neutronics Benchmark,\" PHYSOR 2018"
   ]
  },
  {
   "cell_type": "code",
   "execution_count": null,
   "metadata": {
    "id": "EChOeJ7qVUB7"
   },
   "outputs": [],
   "source": [
    "%matplotlib inline\n",
    "import openmc"
   ]
  },
  {
   "cell_type": "code",
   "execution_count": null,
   "metadata": {
    "id": "jlu98MGXV9MP"
   },
   "outputs": [],
   "source": [
    "# Materials definitions\n",
    "\n",
    "u235 = openmc.Material(name='U235')\n",
    "u235.add_nuclide('U235', 1.0)\n",
    "u235.set_density('g/cm3', 10.0)\n",
    "\n",
    "u238 = openmc.Material(name='U238')\n",
    "u238.add_nuclide('U238', 1.0)\n",
    "u238.set_density('g/cm3', 10.0)\n",
    "\n",
    "pu238 = openmc.Material(name='Pu238')\n",
    "pu238.add_nuclide('Pu238', 1.0)\n",
    "pu238.set_density('g/cm3', 10.0)\n",
    "\n",
    "pu239 = openmc.Material(name='U235')\n",
    "pu239.add_nuclide('Pu239', 1.0)\n",
    "pu239.set_density('g/cm3', 10.0)\n",
    "\n",
    "pu240 = openmc.Material(name='Pu240')\n",
    "pu240.add_nuclide('Pu240', 1.0)\n",
    "pu240.set_density('g/cm3', 10.0)\n",
    "\n",
    "pu241 = openmc.Material(name='Pu241')\n",
    "pu241.add_nuclide('Pu241', 1.0)\n",
    "pu241.set_density('g/cm3', 10.0)\n",
    "\n",
    "pu242 = openmc.Material(name='Pu242')\n",
    "pu242.add_nuclide('Pu242', 1.0)\n",
    "pu242.set_density('g/cm3', 10.0)\n",
    "\n",
    "am241 = openmc.Material(name='Am241')\n",
    "am241.add_nuclide('Am241', 1.0)\n",
    "am241.set_density('g/cm3', 10.0)\n",
    "\n",
    "o16 = openmc.Material(name='O16')\n",
    "o16.add_nuclide('O16', 1.0)\n",
    "o16.set_density('g/cm3', 10.0)\n",
    "\n",
    "sodium = openmc.Material(name='Na')\n",
    "sodium.add_nuclide('Na23', 1.0)\n",
    "sodium.set_density('g/cm3', 0.96)\n",
    "\n",
    "cu63 = openmc.Material(name='Cu63')\n",
    "cu63.set_density('g/cm3', 10.0)\n",
    "cu63.add_nuclide('Cu63', 1.0)\n",
    "\n",
    "Al2O3 = openmc.Material(name='Al2O3')\n",
    "Al2O3.set_density('g/cm3', 10.0)\n",
    "Al2O3.add_element('O', 3.0)\n",
    "Al2O3.add_element('Al', 2.0)"
   ]
  },
  {
   "cell_type": "code",
   "execution_count": null,
   "metadata": {
    "id": "_ltK5VzGZ8kk"
   },
   "outputs": [],
   "source": [
    "# Material mixtures\n",
    "inner = openmc.Material.mix_materials(\n",
    "    [u235, u238, pu238, pu239, pu240, pu241, pu242, am241, o16],\n",
    "    [0.0019, 0.7509, 0.0046, 0.0612, 0.0383, 0.0106, 0.0134, 0.001, 0.1181],\n",
    "    'wo')\n",
    "outer = openmc.Material.mix_materials(\n",
    "    [u235, u238, pu238, pu239, pu240, pu241, pu242, am241, o16],\n",
    "    [0.0018, 0.73, 0.0053, 0.0711, 0.0445, 0.0124, 0.0156, 0.0017, 0.1176],\n",
    "    'wo')\n",
    "clad = openmc.Material.mix_materials(\n",
    "    [cu63,Al2O3], [0.997,0.003], 'wo')"
   ]
  },
  {
   "cell_type": "code",
   "execution_count": null,
   "metadata": {
    "id": "A2kNKaErZ7JR"
   },
   "outputs": [],
   "source": [
    "# Instantiate a Materials collection and export to xml\n",
    "materials_file = openmc.Materials([inner, outer, sodium, clad])\n",
    "materials_file.export_to_xml()"
   ]
  },
  {
   "cell_type": "code",
   "execution_count": null,
   "metadata": {
    "id": "OrML6oju4spK"
   },
   "outputs": [],
   "source": [
    "# Geometry definitions\n",
    "\n",
    "fuel_or = openmc.ZCylinder(r=0.943/2) \n",
    "clad_ir = openmc.ZCylinder(r=0.973/2) \n",
    "clad_or = openmc.ZCylinder(r=1.073/2) \n",
    "\n",
    "top = openmc.ZPlane(z0=+50, boundary_type='vacuum')\n",
    "bottom = openmc.ZPlane(z0=-50, boundary_type='vacuum') \n",
    "\n",
    "fuel_region = -fuel_or & -top & +bottom\n",
    "gap_region  = +fuel_or & -clad_ir  & -top & +bottom\n",
    "clad_region = +clad_ir & -clad_or  & -top & +bottom\n",
    "moderator_region = +clad_or & -top & +bottom\n",
    " \n",
    "gap_if_cell = openmc.Cell(fill=inner, region=gap_region)\n",
    "clad_if_cell = openmc.Cell(fill=clad, region=clad_region)\n",
    "sodium_if_cell = openmc.Cell(fill=sodium, region=moderator_region)\n",
    "\n",
    "gap_of_cell = openmc.Cell(fill=inner, region=gap_region)\n",
    "clad_of_cell = openmc.Cell(fill=clad, region=clad_region)\n",
    "sodium_of_cell = openmc.Cell(fill=sodium, region=moderator_region)"
   ]
  },
  {
   "cell_type": "code",
   "execution_count": null,
   "metadata": {
    "id": "8L0zqqhZfxKh"
   },
   "outputs": [],
   "source": [
    "inner_fuel_cell = openmc.Cell(fill=inner, region=fuel_region)\n",
    "inner_u = openmc.Universe(cells=(inner_fuel_cell, gap_if_cell, clad_if_cell, sodium_if_cell))"
   ]
  },
  {
   "cell_type": "code",
   "execution_count": null,
   "metadata": {
    "id": "iAHLhKZYh6y5"
   },
   "outputs": [],
   "source": [
    "outer_fuel_cell = openmc.Cell(fill=outer, region=fuel_region)\n",
    "outer_u = openmc.Universe(cells=(outer_fuel_cell, gap_of_cell, clad_of_cell, sodium_of_cell))"
   ]
  },
  {
   "cell_type": "code",
   "execution_count": null,
   "metadata": {},
   "outputs": [],
   "source": [
    "# Creating filling for emtpy space in the core\n",
    "sodium_mod_cell = openmc.Cell(fill=sodium)\n",
    "sodium_mod_u = openmc.Universe(cells=(sodium_mod_cell,))"
   ]
  },
  {
   "cell_type": "code",
   "execution_count": null,
   "metadata": {
    "id": "cWTxCkwKRwYj"
   },
   "outputs": [],
   "source": [
    "# Define a lattice for inner assemblies\n",
    "in_lat = openmc.HexLattice(name='inner assembly')\n",
    "in_lat.center = (0., 0.)\n",
    "in_lat.pitch = (21.08/17,)\n",
    "in_lat.orientation = 'x'\n",
    "in_lat.outer = sodium_mod_u\n",
    "\n",
    "# Create rings of fuel universes that will fill the lattice\n",
    "inone = [inner_u]*48\n",
    "intwo = [inner_u]*42\n",
    "inthree = [inner_u]*36\n",
    "infour = [inner_u]*30\n",
    "infive = [inner_u]*24\n",
    "insix = [inner_u]*18\n",
    "inseven = [inner_u]*12\n",
    "ineight = [inner_u]*6\n",
    "innine = [inner_u]*1\n",
    "in_lat.universes = [inone,intwo,inthree,infour,infive,insix,inseven,ineight,innine]\n",
    "\n",
    "# Create the prism that will contain the lattice\n",
    "outer_in_surface = -openmc.model.HexagonalPrism(edge_length=12.1705, orientation='x')\n",
    "\n",
    "# Fill a cell with the lattice. This cell is filled with the lattice and contained within the prism.\n",
    "main_in_assembly = openmc.Cell(fill=in_lat, region=outer_in_surface & -top & +bottom)\n",
    "\n",
    "# Fill a cell with a material that will surround the lattice\n",
    "out_in_assembly  = openmc.Cell(fill=sodium, region=~outer_in_surface & -top & +bottom)\n",
    "\n",
    "# Create a universe that contains both \n",
    "main_in_u = openmc.Universe(cells=[main_in_assembly, out_in_assembly])"
   ]
  },
  {
   "cell_type": "code",
   "execution_count": null,
   "metadata": {},
   "outputs": [],
   "source": [
    "main_in_u.plot(origin = (0,0,0), pixels=(500, 500), width = (50.,50.), color_by = 'material')"
   ]
  },
  {
   "cell_type": "code",
   "execution_count": null,
   "metadata": {
    "id": "1SIgRmjLTuPJ"
   },
   "outputs": [],
   "source": [
    "# Define a lattice for outer assemblies\n",
    "out_lat = openmc.HexLattice(name='outer assembly')\n",
    "out_lat.center = (0., 0.)\n",
    "out_lat.pitch = (21.08/17,)\n",
    "out_lat.orientation = 'x'\n",
    "out_lat.outer = sodium_mod_u\n",
    "\n",
    "# Create rings of fuel universes that will fill the lattice\n",
    "outone = [outer_u]*48\n",
    "outtwo = [outer_u]*42\n",
    "outthree = [outer_u]*36\n",
    "outfour = [outer_u]*30\n",
    "outfive = [outer_u]*24\n",
    "outsix = [outer_u]*18\n",
    "outseven = [outer_u]*12\n",
    "outeight = [outer_u]*6\n",
    "outnine = [outer_u]*1\n",
    "out_lat.universes = [outone,outtwo,outthree,outfour,outfive,outsix,outseven,outeight,outnine]\n",
    "\n",
    "# Create the prism that will contain the lattice\n",
    "outer_out_surface = -openmc.model.HexagonalPrism(edge_length=12.1705)\n",
    "\n",
    "# Fill a cell with the lattice. This cell is filled with the lattice and contained within the prism.\n",
    "main_out_assembly = openmc.Cell(fill=out_lat, region=outer_out_surface & -top & +bottom)\n",
    "\n",
    "# Fill a cell with a material that will surround the lattice\n",
    "out_out_assembly  = openmc.Cell(fill=sodium,  region=~outer_out_surface & -top & +bottom)\n",
    "\n",
    "# Create a universe that contains both \n",
    "main_out_u = openmc.Universe(cells=[main_out_assembly, out_out_assembly])"
   ]
  },
  {
   "cell_type": "code",
   "execution_count": null,
   "metadata": {},
   "outputs": [],
   "source": [
    "main_out_u.plot(origin = (0,0,0), pixels=(500, 500), width = (50.,50.), color_by = 'material')"
   ]
  },
  {
   "cell_type": "code",
   "execution_count": null,
   "metadata": {
    "colab": {
     "base_uri": "https://localhost:8080/",
     "height": 283
    },
    "id": "pDf5K0t-eYRM",
    "outputId": "97396467-3a79-41bb-e9bd-8d4ff43369cf"
   },
   "outputs": [],
   "source": [
    "# Create a hexagonal cell\n",
    "reflector_assembly = -openmc.model.HexagonalPrism(edge_length=12.1705, orientation='x')\n",
    "ref_cell = openmc.Cell(fill=sodium, region=reflector_assembly & -top & +bottom)\n",
    "out_ref_cell  = openmc.Cell(fill=sodium, region=~reflector_assembly & -top & +bottom)\n",
    "ref_u = openmc.Universe(cells=[ref_cell, out_ref_cell])"
   ]
  },
  {
   "cell_type": "markdown",
   "metadata": {},
   "source": [
    "We have 3 types of assemblies created. We can now make the entire reactor core by creating a lattice that is filled with the assemblies. "
   ]
  },
  {
   "cell_type": "code",
   "execution_count": null,
   "metadata": {
    "id": "6lDqg4lLWD7v"
   },
   "outputs": [],
   "source": [
    "# Define the core lattice\n",
    "core_lat = openmc.HexLattice(name='core')\n",
    "core_lat.center = (0., 0.)\n",
    "core_lat.pitch = (21.08,)\n",
    "core_lat.outer = sodium_mod_u"
   ]
  },
  {
   "cell_type": "code",
   "execution_count": null,
   "metadata": {
    "id": "M1FcPGAbjH3J"
   },
   "outputs": [],
   "source": [
    "# Create rings of fuel universes that will fill the lattice\n",
    "ref_one = [ref_u] * 96\n",
    "ref_two = [ref_u] * 90\n",
    "ref_three = [ref_u] * 84\n",
    "ref_four = ([ref_u] * 5 + [main_out_u] * 4 + [ref_u] * 4) * 6\n",
    "ref_five = ([ref_u] + [main_out_u] * 11) * 6\n",
    "out_one = [main_out_u]*66\n",
    "out_two = [main_out_u]*60\n",
    "out_three = ([main_out_u]*2 + [main_in_u]*6 + [main_out_u] * 1)*6\n",
    "in_one = [main_in_u]*48\n",
    "in_two = [main_in_u]*42\n",
    "in_three = [main_in_u]*36\n",
    "in_four = [main_in_u]*30\n",
    "in_five = [main_in_u]*24\n",
    "in_six = [main_in_u]*18\n",
    "in_seven = [main_in_u]*12\n",
    "in_eight = [main_in_u]*6\n",
    "in_nine = [main_in_u]*1\n",
    "core_lat.universes = [ref_one,ref_two,ref_three,ref_four,ref_five,out_one,out_two,out_three,in_one,in_two,in_three,in_four,in_five,in_six,in_seven,in_eight,in_nine]"
   ]
  },
  {
   "cell_type": "code",
   "execution_count": null,
   "metadata": {
    "colab": {
     "base_uri": "https://localhost:8080/",
     "height": 283
    },
    "id": "nzVEvJgpjyY2",
    "outputId": "3f678f02-4a6c-4768-dc46-419ad37019a0",
    "scrolled": true
   },
   "outputs": [],
   "source": [
    "# Create the prism that will contain the lattice\n",
    "outer_core_surface = -openmc.model.HexagonalPrism(edge_length=347.82, boundary_type='vacuum')\n",
    "\n",
    "# Fill a cell with the lattice. This cell is filled with the lattice and contained within the prism.\n",
    "core = openmc.Cell(fill=core_lat, region=outer_core_surface & -top & +bottom)\n",
    "\n",
    "# Fill a cell with a material that will surround the lattice\n",
    "out_core = openmc.Cell(fill=outer, region=~outer_core_surface & -top & +bottom)\n",
    "\n",
    "# Create a universe that contains both \n",
    "main_u = openmc.Universe(cells=[core, out_core]) "
   ]
  },
  {
   "cell_type": "code",
   "execution_count": null,
   "metadata": {},
   "outputs": [],
   "source": [
    "main_u.plot(origin = (0,0,0), pixels=(5000, 5000), width = (660.,660.), color_by = 'material')"
   ]
  },
  {
   "cell_type": "markdown",
   "metadata": {},
   "source": [
    "We now have an entire reactor core defined! We can export the geometry and run the code. "
   ]
  },
  {
   "cell_type": "code",
   "execution_count": null,
   "metadata": {},
   "outputs": [],
   "source": [
    "geom = openmc.Geometry(main_u)\n",
    "geom.export_to_xml()"
   ]
  },
  {
   "cell_type": "code",
   "execution_count": null,
   "metadata": {
    "colab": {
     "base_uri": "https://localhost:8080/"
    },
    "id": "5mPhUg7QWVw4",
    "outputId": "f110f4ab-94b5-477b-8c55-cab8ed7c3116"
   },
   "outputs": [],
   "source": [
    "# OpenMC simulation parameters\n",
    "\n",
    "lower_left = [-300, -300, -50]\n",
    "upper_right = [300, 300, 50]\n",
    "uniform_dist = openmc.stats.Box(lower_left, upper_right)\n",
    "src = openmc.IndependentSource(space=uniform_dist)\n",
    "\n",
    "settings = openmc.Settings()\n",
    "settings.source = src\n",
    "settings.batches = 100\n",
    "settings.inactive = 10\n",
    "settings.particles = 10000\n",
    "\n",
    "settings.export_to_xml()"
   ]
  },
  {
   "cell_type": "code",
   "execution_count": null,
   "metadata": {
    "colab": {
     "base_uri": "https://localhost:8080/",
     "height": 1000
    },
    "id": "A_f292ebWZFM",
    "outputId": "d6710d6c-aea6-43c9-e63c-b2e62ea7ea08"
   },
   "outputs": [],
   "source": [
    "openmc.run()"
   ]
  }
 ],
 "metadata": {
  "colab": {
   "collapsed_sections": [],
   "name": "FastReactor_3layers.ipynb",
   "provenance": []
  },
  "kernelspec": {
   "display_name": "Python3 (sandy-devel)",
   "language": "python",
   "name": "sandy-devel"
  },
  "language_info": {
   "codemirror_mode": {
    "name": "ipython",
    "version": 3
   },
   "file_extension": ".py",
   "mimetype": "text/x-python",
   "name": "python",
   "nbconvert_exporter": "python",
   "pygments_lexer": "ipython3",
   "version": "3.12.7"
  }
 },
 "nbformat": 4,
 "nbformat_minor": 4
}
